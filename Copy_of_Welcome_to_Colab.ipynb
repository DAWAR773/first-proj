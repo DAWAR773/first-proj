{
  "cells": [
    {
      "cell_type": "markdown",
      "metadata": {
        "id": "view-in-github",
        "colab_type": "text"
      },
      "source": [
        "<a href=\"https://colab.research.google.com/github/DAWAR773/first-proj/blob/main/Copy_of_Welcome_to_Colab.ipynb\" target=\"_parent\"><img src=\"https://colab.research.google.com/assets/colab-badge.svg\" alt=\"Open In Colab\"/></a>"
      ]
    },
    {
      "cell_type": "code",
      "source": [
        "name= \"mir dawar \"\n",
        "age=20\n",
        "print(age,name)"
      ],
      "metadata": {
        "colab": {
          "base_uri": "https://localhost:8080/"
        },
        "id": "w59ijQfO5Zad",
        "outputId": "44b0a20b-e784-401d-ca35-639ee061d0b5"
      },
      "execution_count": null,
      "outputs": [
        {
          "output_type": "stream",
          "name": "stdout",
          "text": [
            "20 mir dawar \n"
          ]
        }
      ]
    },
    {
      "cell_type": "code",
      "source": [
        "name = \"Alice\"\n",
        "age = 30\n",
        "print(f\"My name is {name} and I am {age} years old.\")"
      ],
      "metadata": {
        "colab": {
          "base_uri": "https://localhost:8080/"
        },
        "id": "MAoqFBgc8BIQ",
        "outputId": "6f020c14-70d1-4752-c6a6-448d9bf113f9"
      },
      "execution_count": null,
      "outputs": [
        {
          "output_type": "stream",
          "name": "stdout",
          "text": [
            "My name is Alice and I am 30 years old.\n"
          ]
        }
      ]
    },
    {
      "cell_type": "code",
      "metadata": {
        "id": "f4dbdfc0"
      },
      "source": [
        "# Lists are ordered and mutable collections.\n",
        "my_list = [1, 2, 3, 'apple', 'banana']\n",
        "print(\"List:\", my_list)\n",
        "\n",
        "# Accessing elements in a list\n",
        "\n",
        "print(\"First element of list:\", my_list[0])\n",
        "\n",
        "# Modifying a list\n",
        "my_list.append('cherry')\n",
        "print(\"List after appending:\", my_list)"
      ],
      "execution_count": null,
      "outputs": []
    },
    {
      "cell_type": "code",
      "metadata": {
        "id": "1a5956ed"
      },
      "source": [
        "# Tuples are ordered and immutable collections.\n",
        "my_tuple = (10, 20, 30, 'orange', 'grape')\n",
        "print(\"Tuple:\", my_tuple)\n",
        "\n",
        "# Accessing elements in a tuple\n",
        "print(\"Second element of tuple:\", my_tuple[1])\n",
        "\n",
        "# Tuples cannot be modified after creation\n",
        "# my_tuple.append('kiwi') # This would raise an error"
      ],
      "execution_count": null,
      "outputs": []
    },
    {
      "cell_type": "code",
      "metadata": {
        "id": "5e2ac28d"
      },
      "source": [
        "# Sets are unordered collections of unique elements.\n",
        "my_set = {1, 2, 3, 2, 1, 'apple', 'banana', 'apple'}\n",
        "print(\"Set:\", my_set)\n",
        "\n",
        "# Adding elements to a set\n",
        "my_set.add('cherry')\n",
        "print(\"Set after adding:\", my_set)\n",
        "\n",
        "# Removing elements from a set\n",
        "my_set.remove(2)\n",
        "print(\"Set after removing:\", my_set)"
      ],
      "execution_count": null,
      "outputs": []
    },
    {
      "cell_type": "markdown",
      "metadata": {
        "id": "81ddd9ab"
      },
      "source": [
        "## Generate random numbers\n",
        "\n",
        "### Subtask:\n",
        "Generate two random numbers.\n"
      ]
    },
    {
      "cell_type": "code",
      "metadata": {
        "colab": {
          "base_uri": "https://localhost:8080/"
        },
        "id": "c2c1547c",
        "outputId": "ca8fd78f-11b8-4133-e15f-42a614603b39"
      },
      "source": [
        "print(f\"Sum: {sum_result}\")\n",
        "print(f\"Difference: {difference_result}\")\n",
        "print(f\"Product: {product_result}\")\n",
        "print(f\"Division: {division_result}\")"
      ],
      "execution_count": null,
      "outputs": [
        {
          "output_type": "stream",
          "name": "stdout",
          "text": [
            "Sum: 1.1495960103779246\n",
            "Difference: -0.29247782424822855\n",
            "Product: 0.3090069273499658\n",
            "Division: 0.5943649801758573\n"
          ]
        }
      ]
    },
    {
      "cell_type": "code",
      "source": [
        "num1 = 10\n",
        "num2 = 59\n",
        "\n",
        "sum_result = num1 + num2\n",
        "difference_result = num1 - num2\n",
        "product_result = num1 * num2\n",
        "division_result = num1 / num2\n",
        "\n",
        "print(f\"Sum: {sum_result}\")\n",
        "print(f\"Difference: {difference_result}\")\n",
        "print(f\"Product: {product_result}\")\n",
        "print(f\"Division: {division_result}\")"
      ],
      "metadata": {
        "id": "XQmlrKbF-6oX",
        "colab": {
          "base_uri": "https://localhost:8080/"
        },
        "outputId": "36c18028-e2b6-403a-e61a-91c14826c662"
      },
      "execution_count": 1,
      "outputs": [
        {
          "output_type": "stream",
          "name": "stdout",
          "text": [
            "Sum: 69\n",
            "Difference: -49\n",
            "Product: 590\n",
            "Division: 0.1694915254237288\n"
          ]
        }
      ]
    },
    {
      "cell_type": "markdown",
      "metadata": {
        "id": "dfcfa1a5"
      },
      "source": [
        "## Summary:\n",
        "\n",
        "### Data Analysis Key Findings\n",
        "\n",
        "*   Two random numbers between 0 and 1 were successfully generated.\n",
        "*   The sum, difference, product, and division of the two random numbers were calculated.\n",
        "*   The calculated results for each arithmetic operation were displayed.\n",
        "\n",
        "### Insights or Next Steps\n",
        "\n",
        "*   Consider handling potential division by zero errors if the random numbers could include 0.\n",
        "*   Explore performing other mathematical operations or functions on the generated numbers.\n"
      ]
    }
  ],
  "metadata": {
    "colab": {
      "provenance": [],
      "include_colab_link": true
    },
    "kernelspec": {
      "display_name": "Python 3",
      "name": "python3"
    }
  },
  "nbformat": 4,
  "nbformat_minor": 0
}